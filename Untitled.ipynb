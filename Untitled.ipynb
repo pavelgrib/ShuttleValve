{
 "cells": [
  {
   "cell_type": "code",
   "execution_count": 446,
   "metadata": {
    "collapsed": false
   },
   "outputs": [
    {
     "name": "stdout",
     "output_type": "stream",
     "text": [
      "Appending to valve.py\n"
     ]
    }
   ],
   "source": [
    "import numpy as np\n",
    "import scipy as sp\n",
    "import scipy.stats as stats\n",
    "import pandas as pd\n",
    "import re\n",
    "import matplotlib.pyplot as plt\n",
    "from functools import reduce\n",
    "\n",
    "%matplotlib inline"
   ]
  },
  {
   "cell_type": "code",
   "execution_count": 460,
   "metadata": {
    "collapsed": false
   },
   "outputs": [],
   "source": [
    "# files = !ls\n",
    "np.ceil?"
   ]
  },
  {
   "cell_type": "code",
   "execution_count": 447,
   "metadata": {
    "collapsed": false
   },
   "outputs": [
    {
     "name": "stdout",
     "output_type": "stream",
     "text": [
      "Appending to valve.py\n"
     ]
    }
   ],
   "source": [
    "files = [f for f in files if f.endswith('.CSV')]"
   ]
  },
  {
   "cell_type": "code",
   "execution_count": 448,
   "metadata": {
    "collapsed": false
   },
   "outputs": [
    {
     "name": "stdout",
     "output_type": "stream",
     "text": [
      "Appending to valve.py\n"
     ]
    }
   ],
   "source": [
    "def read_file(f):\n",
    "    s = pd.read_csv(f, squeeze=True, header=None, names=['time', 'current'], index_col=['time'])\n",
    "    s.index = np.round(s.index, decimals=3)\n",
    "    return s\n",
    "\n",
    "def tek_name(i):\n",
    "    return \"TEK000%02d.CSV\" % i"
   ]
  },
  {
   "cell_type": "code",
   "execution_count": 449,
   "metadata": {
    "collapsed": false
   },
   "outputs": [
    {
     "name": "stdout",
     "output_type": "stream",
     "text": [
      "Appending to valve.py\n"
     ]
    }
   ],
   "source": [
    "good_series = {}\n",
    "for i in range(4):\n",
    "    name = tek_name(i)\n",
    "    good_series[name] = read_file(name)"
   ]
  },
  {
   "cell_type": "code",
   "execution_count": 450,
   "metadata": {
    "collapsed": false
   },
   "outputs": [
    {
     "name": "stdout",
     "output_type": "stream",
     "text": [
      "Appending to valve.py\n"
     ]
    }
   ],
   "source": [
    "for s in good_series.values():\n",
    "    s.index = np.round(s.index, decimals=3)"
   ]
  },
  {
   "cell_type": "code",
   "execution_count": 451,
   "metadata": {
    "collapsed": false
   },
   "outputs": [
    {
     "name": "stdout",
     "output_type": "stream",
     "text": [
      "Appending to valve.py\n"
     ]
    }
   ],
   "source": [
    "subplt = plt.subplots(2, 2)\n",
    "for ax, (name, s) in zip(subplt[1].reshape((4, )), good_series.items()):\n",
    "    s.plot(ax=ax, title = name)"
   ]
  },
  {
   "cell_type": "code",
   "execution_count": 452,
   "metadata": {
    "collapsed": false
   },
   "outputs": [
    {
     "name": "stdout",
     "output_type": "stream",
     "text": [
      "Appending to valve.py\n"
     ]
    }
   ],
   "source": [
    "bad_series = {}\n",
    "for i in range(10, 18):\n",
    "    name = tek_name(i)\n",
    "    bad_series[name] = read_file(name)"
   ]
  },
  {
   "cell_type": "code",
   "execution_count": 453,
   "metadata": {
    "collapsed": false
   },
   "outputs": [
    {
     "name": "stdout",
     "output_type": "stream",
     "text": [
      "Appending to valve.py\n"
     ]
    }
   ],
   "source": [
    "subplt = plt.subplots(3, 3)\n",
    "for ax, (name, s) in zip(subplt[1].reshape((9, )), bad_series.items()):\n",
    "    s.plot(ax=ax, title = name)"
   ]
  },
  {
   "cell_type": "code",
   "execution_count": 454,
   "metadata": {
    "collapsed": false
   },
   "outputs": [
    {
     "name": "stdout",
     "output_type": "stream",
     "text": [
      "Appending to valve.py\n"
     ]
    }
   ],
   "source": [
    "class SingleParamNormal(object):\n",
    "    def __init__(self, mean, sigma, data_sigma):\n",
    "        self.data_sigma = data_sigma\n",
    "        self.mean = mean\n",
    "        self.sigma = sigma\n",
    "        \n",
    "    def sample(self, num_samples=1):\n",
    "        return np.random.normal(self.mean, self.data_sigma, num_samples)\n",
    "\n",
    "    def update(self, new_point):\n",
    "        ## assuming new data follows \n",
    "        self.mean += (new_point - self.mean) * (self.sigma**2) / (self.data_sigma**2 + self.sigma**2)\n",
    "        self.sigma = np.sqrt((self.sigma**2 * self.data_sigma**2) / (self.data_sigma**2 + self.sigma**2))\n",
    "        \n",
    "    def sample_predictive(self, num_samples):\n",
    "        return np.random.normal(self.mean, np.sqrt(self.sigma**2 + self.data_sigma**2))\n",
    "\n",
    "    def prob(self, point):\n",
    "        # what is the probability that the point belongs?\n",
    "        p = stats.norm(self.mean, self.data_sigma)\n",
    "#         print(p.pdf(point), end = \"/\")\n",
    "        return p.pdf(point)\n",
    "\n",
    "\n",
    "class NormalChain(object):\n",
    "    def __init__(self, n, priors=(0, 1), data_sigma=1, tag=\"good\"):\n",
    "        self.num_links = n\n",
    "        self.nodes = [SingleParamNormal(priors[0], priors[1], data_sigma) for _ in range(n - 1)]\n",
    "        self.tag = tag\n",
    "        \n",
    "    def update(self, arr):\n",
    "        # arr is of length n; take diffs, which is of length n - 1\n",
    "        diffs = np.diff(arr)\n",
    "        for node, point in zip(self.nodes, diffs):\n",
    "            node.update(point)\n",
    "    \n",
    "    def sample_path(self):\n",
    "        new_diffs = np.array([node.sample() for node in self.nodes], dtype=np.float)\n",
    "        return pd.Series(data=np.cumsum(new_diffs))\n",
    "        \n",
    "    def log_likelihood(self, new_data):\n",
    "        # given new_data, what is the probability that it fits here?\n",
    "        diffs = np.diff(new_data)\n",
    "        return sum(filter(lambda x: x > 1e-30, [np.log(node.prob(v)) for node, v in zip(self.nodes, diffs)]))\n",
    "    \n",
    "class Predictor(object):\n",
    "    def __init__(self, **kwargs):\n",
    "        self.chains = kwargs\n",
    "        \n",
    "    def predict(self, series):\n",
    "        ll = {name: chain.log_likelihood(series) for name, chain in self.chains.items()}\n",
    "        return reduce(lambda x, y: x if ll[x] > ll[y] else y, ll.keys())"
   ]
  },
  {
   "cell_type": "code",
   "execution_count": 455,
   "metadata": {
    "collapsed": false
   },
   "outputs": [
    {
     "name": "stdout",
     "output_type": "stream",
     "text": [
      "Appending to valve.py\n"
     ]
    }
   ],
   "source": [
    "def transform(s):\n",
    "    return pd.rolling_mean(s, 10).iloc[9::10] * 10\n",
    "#     return pd.rolling_mean(s, 10).iloc[400:] * 10\n",
    "#     return pd.rolling_mean(s, 10).iloc[9:]\n",
    "#     return s\n",
    "\n",
    "# idx = transform(good_series[tek_name(0)]).index\n",
    "\n",
    "chain = NormalChain(99, priors=(0, 0.01), data_sigma = 0.01)\n",
    "chain.update(transform(good_series[tek_name(0)]))\n",
    "chain.update(transform(good_series[tek_name(1)]))\n",
    "chain.update(transform(good_series[tek_name(2)]))\n",
    "chain.update(transform(good_series[tek_name(3)]))"
   ]
  },
  {
   "cell_type": "code",
   "execution_count": 456,
   "metadata": {
    "collapsed": false
   },
   "outputs": [
    {
     "name": "stdout",
     "output_type": "stream",
     "text": [
      "Appending to valve.py\n"
     ]
    }
   ],
   "source": [
    "paths = np.array([bad_chain.sample_path() for _ in range(1000)])\n",
    "paths.mean(axis=0)\n",
    "plt.plot(paths.mean(axis=0))"
   ]
  },
  {
   "cell_type": "code",
   "execution_count": 372,
   "metadata": {
    "collapsed": false,
    "scrolled": true
   },
   "outputs": [
    {
     "name": "stdout",
     "output_type": "stream",
     "text": [
      "0 11.0586949584\n",
      "1 14.7449266111\n",
      "2 3.68623165278\n",
      "3 7.37246330557\n"
     ]
    }
   ],
   "source": [
    "for i in range(4):\n",
    "    print(i, chain.log_likelihood(transform(good_series[tek_name(i)])))"
   ]
  },
  {
   "cell_type": "code",
   "execution_count": 373,
   "metadata": {
    "collapsed": false,
    "scrolled": true
   },
   "outputs": [
    {
     "name": "stdout",
     "output_type": "stream",
     "text": [
      "10 0\n",
      "11 11.0586949584\n",
      "12 0\n",
      "13 7.37246330557\n",
      "14 7.37246330557\n",
      "15 7.37246330557\n",
      "16 0\n",
      "17 7.37246330557\n"
     ]
    }
   ],
   "source": [
    "for i in range(10, 18):\n",
    "    print(i, chain.log_likelihood(transform(bad_series[tek_name(i)])))"
   ]
  },
  {
   "cell_type": "code",
   "execution_count": 361,
   "metadata": {
    "collapsed": false
   },
   "outputs": [
    {
     "data": {
      "text/plain": [
       "0.008941700831380078"
      ]
     },
     "execution_count": 361,
     "metadata": {},
     "output_type": "execute_result"
    }
   ],
   "source": [
    "np.var(transform(good_series[tek_name(0)]).diff())"
   ]
  },
  {
   "cell_type": "code",
   "execution_count": 311,
   "metadata": {
    "collapsed": false
   },
   "outputs": [],
   "source": [
    "s = good_series[tek_name(1)]"
   ]
  },
  {
   "cell_type": "code",
   "execution_count": 320,
   "metadata": {
    "collapsed": false,
    "scrolled": true
   },
   "outputs": [
    {
     "data": {
      "text/plain": [
       "time\n",
       "-0.091   -0.120\n",
       "-0.081   -0.112\n",
       "-0.071   -0.112\n",
       "-0.061   -0.116\n",
       "-0.051   -0.108\n",
       "-0.041   -0.120\n",
       "-0.031   -0.116\n",
       "-0.021   -0.116\n",
       "-0.011   -0.112\n",
       "-0.001    0.280\n",
       " 0.009    1.164\n",
       " 0.019    1.776\n",
       " 0.029    2.188\n",
       " 0.039    1.044\n",
       " 0.049    1.516\n",
       "...\n",
       "0.759   -0.108\n",
       "0.769   -0.112\n",
       "0.779   -0.120\n",
       "0.789   -0.112\n",
       "0.799   -0.116\n",
       "0.809   -0.108\n",
       "0.819   -0.112\n",
       "0.829   -0.112\n",
       "0.839   -0.116\n",
       "0.849   -0.116\n",
       "0.859   -0.120\n",
       "0.869   -0.120\n",
       "0.879   -0.112\n",
       "0.889   -0.112\n",
       "0.899   -0.116\n",
       "Length: 100, dtype: float64"
      ]
     },
     "execution_count": 320,
     "metadata": {},
     "output_type": "execute_result"
    }
   ],
   "source": [
    "pd.rolling_mean(s, 10).iloc[9::10]"
   ]
  },
  {
   "cell_type": "code",
   "execution_count": 457,
   "metadata": {
    "collapsed": false
   },
   "outputs": [
    {
     "name": "stdout",
     "output_type": "stream",
     "text": [
      "Appending to valve.py\n"
     ]
    }
   ],
   "source": [
    "bad_chain = NormalChain(99, priors=(0, 0.01), data_sigma = 0.01)\n",
    "for i in range(10, 18):\n",
    "    bad_chain.update(transform(bad_series[tek_name(i)]))"
   ]
  },
  {
   "cell_type": "code",
   "execution_count": 381,
   "metadata": {
    "collapsed": false
   },
   "outputs": [
    {
     "name": "stdout",
     "output_type": "stream",
     "text": [
      "0 24.5485481806\n",
      "1 38.7327928643\n",
      "2 26.2944152933\n",
      "3 25.077319443\n"
     ]
    }
   ],
   "source": [
    "for i in range(4):\n",
    "    print(i, bad_chain.log_likelihood(transform(good_series[tek_name(i)])))"
   ]
  },
  {
   "cell_type": "code",
   "execution_count": 382,
   "metadata": {
    "collapsed": false
   },
   "outputs": [
    {
     "name": "stdout",
     "output_type": "stream",
     "text": [
      "10 26.0649737639\n",
      "11 32.0516875834\n",
      "12 17.077319443\n",
      "13 19.906572872\n",
      "14 20.8304058627\n",
      "15 33.6638451621\n",
      "16 14.8087479414\n",
      "17 31.5259497578\n"
     ]
    }
   ],
   "source": [
    "for i in range(10, 18):\n",
    "    print(i, bad_chain.log_likelihood(transform(bad_series[tek_name(i)])))"
   ]
  },
  {
   "cell_type": "code",
   "execution_count": 442,
   "metadata": {
    "collapsed": false
   },
   "outputs": [
    {
     "data": {
      "text/plain": [
       "25.077319442951868"
      ]
     },
     "execution_count": 442,
     "metadata": {},
     "output_type": "execute_result"
    }
   ],
   "source": [
    "s = transform(good_series[tek_name(3)])\n",
    "\n",
    "bad_chain.log_likelihood(s)"
   ]
  },
  {
   "cell_type": "code",
   "execution_count": 443,
   "metadata": {
    "collapsed": false
   },
   "outputs": [
    {
     "data": {
      "text/plain": [
       "31.43477983339972"
      ]
     },
     "execution_count": 443,
     "metadata": {},
     "output_type": "execute_result"
    }
   ],
   "source": [
    "chain.log_likelihood(s)"
   ]
  },
  {
   "cell_type": "code",
   "execution_count": 458,
   "metadata": {
    "collapsed": false
   },
   "outputs": [
    {
     "name": "stdout",
     "output_type": "stream",
     "text": [
      "Appending to valve.py\n"
     ]
    }
   ],
   "source": [
    "p = Predictor(good=chain, bad=bad_chain)"
   ]
  },
  {
   "cell_type": "code",
   "execution_count": 459,
   "metadata": {
    "collapsed": false
   },
   "outputs": [
    {
     "name": "stdout",
     "output_type": "stream",
     "text": [
      "Appending to valve.py\n"
     ]
    }
   ],
   "source": [
    "p.predict(s)"
   ]
  },
  {
   "cell_type": "code",
   "execution_count": 429,
   "metadata": {
    "collapsed": false
   },
   "outputs": [],
   "source": [
    "v = {'a': 1, 'b': 2, 'c': -2, 'd': 10}"
   ]
  },
  {
   "cell_type": "code",
   "execution_count": 401,
   "metadata": {
    "collapsed": false
   },
   "outputs": [
    {
     "data": {
      "text/plain": [
       "'d'"
      ]
     },
     "execution_count": 401,
     "metadata": {},
     "output_type": "execute_result"
    }
   ],
   "source": [
    "reduce(lambda x, y: x if v[x] > v[y] else y, v.keys())"
   ]
  },
  {
   "cell_type": "code",
   "execution_count": null,
   "metadata": {
    "collapsed": true
   },
   "outputs": [],
   "source": []
  }
 ],
 "metadata": {
  "kernelspec": {
   "display_name": "Python 3",
   "language": "python",
   "name": "python3"
  },
  "language_info": {
   "codemirror_mode": {
    "name": "ipython",
    "version": 3
   },
   "file_extension": ".py",
   "mimetype": "text/x-python",
   "name": "python",
   "nbconvert_exporter": "python",
   "pygments_lexer": "ipython3",
   "version": "3.4.3"
  }
 },
 "nbformat": 4,
 "nbformat_minor": 0
}
