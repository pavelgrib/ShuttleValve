{
 "cells": [
  {
   "cell_type": "code",
   "execution_count": 461,
   "metadata": {
    "collapsed": false
   },
   "outputs": [],
   "source": [
    "import numpy as np\n",
    "import scipy as sp\n",
    "import scipy.stats as stats\n",
    "import pandas as pd\n",
    "import re\n",
    "import matplotlib.pyplot as plt\n",
    "from functools import reduce\n",
    "\n",
    "%matplotlib inline"
   ]
  },
  {
   "cell_type": "code",
   "execution_count": 462,
   "metadata": {
    "collapsed": false
   },
   "outputs": [],
   "source": [
    "files = !ls"
   ]
  },
  {
   "cell_type": "code",
   "execution_count": 463,
   "metadata": {
    "collapsed": false
   },
   "outputs": [],
   "source": [
    "files = [f for f in files if f.endswith('.CSV')]"
   ]
  },
  {
   "cell_type": "code",
   "execution_count": 464,
   "metadata": {
    "collapsed": false
   },
   "outputs": [],
   "source": [
    "def read_file(f):\n",
    "    s = pd.read_csv(f, squeeze=True, header=None, names=['time', 'current'], index_col=['time'])\n",
    "    s.index = np.round(s.index, decimals=3)\n",
    "    return s\n",
    "\n",
    "def tek_name(i):\n",
    "    return \"TEK000%02d.CSV\" % i"
   ]
  },
  {
   "cell_type": "code",
   "execution_count": 465,
   "metadata": {
    "collapsed": false
   },
   "outputs": [],
   "source": [
    "good_series = {}\n",
    "for i in range(4):\n",
    "    name = tek_name(i)\n",
    "    good_series[name] = read_file(name)"
   ]
  },
  {
   "cell_type": "code",
   "execution_count": 466,
   "metadata": {
    "collapsed": false
   },
   "outputs": [],
   "source": [
    "for s in good_series.values():\n",
    "    s.index = np.round(s.index, decimals=3)"
   ]
  },
  {
   "cell_type": "code",
   "execution_count": 467,
   "metadata": {
    "collapsed": false
   },
   "outputs": [
    {
     "data": {
      "image/png": "[encoded data removed]",
      "text/plain": [
       "<matplotlib.figure.Figure at 0x117040c18>"
      ]
     },
     "metadata": {},
     "output_type": "display_data"
    }
   ],
   "source": [
    "subplt = plt.subplots(2, 2)\n",
    "for ax, (name, s) in zip(subplt[1].reshape((4, )), good_series.items()):\n",
    "    s.plot(ax=ax, title = name)"
   ]
  },
  {
   "cell_type": "code",
   "execution_count": 468,
   "metadata": {
    "collapsed": false
   },
   "outputs": [],
   "source": [
    "bad_series = {}\n",
    "for i in range(10, 18):\n",
    "    name = tek_name(i)\n",
    "    bad_series[name] = read_file(name)"
   ]
  },
  {
   "cell_type": "code",
   "execution_count": 469,
   "metadata": {
    "collapsed": false
   },
   "outputs": [
    {
     "data": {
      "image/png": "[encoded data removed]",
      "text/plain": [
       "<matplotlib.figure.Figure at 0x11703b908>"
      ]
     },
     "metadata": {},
     "output_type": "display_data"
    }
   ],
   "source": [
    "subplt = plt.subplots(3, 3)\n",
    "for ax, (name, s) in zip(subplt[1].reshape((9, )), bad_series.items()):\n",
    "    s.plot(ax=ax, title = name)"
   ]
  },
  {
   "cell_type": "code",
   "execution_count": 470,
   "metadata": {
    "collapsed": false
   },
   "outputs": [],
   "source": [
    "class SingleParamNormal(object):\n",
    "    def __init__(self, mean, sigma, data_sigma):\n",
    "        self.data_sigma = data_sigma\n",
    "        self.mean = mean\n",
    "        self.sigma = sigma\n",
    "        \n",
    "    def sample(self, num_samples=1):\n",
    "        return np.random.normal(self.mean, self.data_sigma, num_samples)\n",
    "\n",
    "    def update(self, new_point):\n",
    "        ## assuming new data follows \n",
    "        self.mean += (new_point - self.mean) * (self.sigma**2) / (self.data_sigma**2 + self.sigma**2)\n",
    "        self.sigma = np.sqrt((self.sigma**2 * self.data_sigma**2) / (self.data_sigma**2 + self.sigma**2))\n",
    "        \n",
    "    def sample_predictive(self, num_samples):\n",
    "        return np.random.normal(self.mean, np.sqrt(self.sigma**2 + self.data_sigma**2))\n",
    "\n",
    "    def prob(self, point):\n",
    "        # what is the probability that the point belongs?\n",
    "        p = stats.norm(self.mean, self.data_sigma)\n",
    "#         print(p.pdf(point), end = \"/\")\n",
    "        return p.pdf(point)\n",
    "\n",
    "\n",
    "class NormalChain(object):\n",
    "    def __init__(self, n, priors=(0, 1), data_sigma=1, tag=\"good\"):\n",
    "        self.num_links = n\n",
    "        self.nodes = [SingleParamNormal(priors[0], priors[1], data_sigma) for _ in range(n - 1)]\n",
    "        self.tag = tag\n",
    "        \n",
    "    def update(self, arr):\n",
    "        # arr is of length n; take diffs, which is of length n - 1\n",
    "        diffs = np.diff(arr)\n",
    "        for node, point in zip(self.nodes, diffs):\n",
    "            node.update(point)\n",
    "    \n",
    "    def sample_path(self):\n",
    "        new_diffs = np.array([node.sample() for node in self.nodes], dtype=np.float)\n",
    "        return pd.Series(data=np.cumsum(new_diffs))\n",
    "        \n",
    "    def log_likelihood(self, new_data):\n",
    "        # given new_data, what is the probability that it fits here?\n",
    "        diffs = np.diff(new_data)\n",
    "        return sum(filter(lambda x: x > 1e-30, [np.log(node.prob(v)) for node, v in zip(self.nodes, diffs)]))\n",
    "    \n",
    "class Predictor(object):\n",
    "    def __init__(self, **kwargs):\n",
    "        self.chains = kwargs\n",
    "        \n",
    "    def predict(self, series):\n",
    "        ll = {name: chain.log_likelihood(series) for name, chain in self.chains.items()}\n",
    "        return reduce(lambda x, y: x if ll[x] > ll[y] else y, ll.keys())"
   ]
  },
  {
   "cell_type": "code",
   "execution_count": 471,
   "metadata": {
    "collapsed": false
   },
   "outputs": [],
   "source": [
    "def transform(s):\n",
    "    return pd.rolling_mean(s, 10).iloc[9::10] * 10\n",
    "#     return pd.rolling_mean(s, 10).iloc[400:] * 10\n",
    "#     return pd.rolling_mean(s, 10).iloc[9:]\n",
    "#     return s\n",
    "\n",
    "# idx = transform(good_series[tek_name(0)]).index\n",
    "\n",
    "chain = NormalChain(99, priors=(0, 0.01), data_sigma = 0.01)\n",
    "chain.update(transform(good_series[tek_name(0)]))\n",
    "chain.update(transform(good_series[tek_name(1)]))\n",
    "chain.update(transform(good_series[tek_name(2)]))\n",
    "chain.update(transform(good_series[tek_name(3)]))"
   ]
  },
  {
   "cell_type": "code",
   "execution_count": 509,
   "metadata": {
    "collapsed": false
   },
   "outputs": [
    {
     "data": {
      "text/plain": [
       "[<matplotlib.lines.Line2D at 0x116cf5898>]"
      ]
     },
     "execution_count": 509,
     "metadata": {},
     "output_type": "execute_result"
    },
    {
     "data": {
      "image/png": "[encoded data removed]",
      "text/plain": [
       "<matplotlib.figure.Figure at 0x1174a42b0>"
      ]
     },
     "metadata": {},
     "output_type": "display_data"
    }
   ],
   "source": [
    "paths = np.array([chain.sample_path() for _ in range(1000)])\n",
    "paths.mean(axis=0)\n",
    "plt.plot(paths.mean(axis=0))"
   ]
  },
  {
   "cell_type": "code",
   "execution_count": 473,
   "metadata": {
    "collapsed": false,
    "scrolled": true
   },
   "outputs": [
    {
     "name": "stdout",
     "output_type": "stream",
     "text": [
      "0 57.4420229724\n",
      "1 49.0721697501\n",
      "2 25.0223165278\n",
      "3 31.4347798334\n"
     ]
    }
   ],
   "source": [
    "for i in range(4):\n",
    "    print(i, chain.log_likelihood(transform(good_series[tek_name(i)])))"
   ]
  },
  {
   "cell_type": "code",
   "execution_count": 474,
   "metadata": {
    "collapsed": false,
    "scrolled": true
   },
   "outputs": [
    {
     "name": "stdout",
     "output_type": "stream",
     "text": [
      "10 16.3698532223\n",
      "11 15.8711582639\n",
      "12 22.1423165278\n",
      "13 18.7760848751\n",
      "14 29.5147798334\n",
      "15 49.4046330557\n",
      "16 19.5698532223\n",
      "17 26.4560848751\n"
     ]
    }
   ],
   "source": [
    "for i in range(10, 18):\n",
    "    print(i, chain.log_likelihood(transform(bad_series[tek_name(i)])))"
   ]
  },
  {
   "cell_type": "code",
   "execution_count": 475,
   "metadata": {
    "collapsed": false
   },
   "outputs": [
    {
     "data": {
      "text/plain": [
       "9.8514740944801567"
      ]
     },
     "execution_count": 475,
     "metadata": {},
     "output_type": "execute_result"
    }
   ],
   "source": [
    "np.var(transform(good_series[tek_name(0)]).diff())"
   ]
  },
  {
   "cell_type": "code",
   "execution_count": 476,
   "metadata": {
    "collapsed": false
   },
   "outputs": [],
   "source": [
    "s = good_series[tek_name(1)]"
   ]
  },
  {
   "cell_type": "code",
   "execution_count": 320,
   "metadata": {
    "collapsed": false,
    "scrolled": true
   },
   "outputs": [
    {
     "data": {
      "text/plain": [
       "time\n",
       "-0.091   -0.120\n",
       "-0.081   -0.112\n",
       "-0.071   -0.112\n",
       "-0.061   -0.116\n",
       "-0.051   -0.108\n",
       "-0.041   -0.120\n",
       "-0.031   -0.116\n",
       "-0.021   -0.116\n",
       "-0.011   -0.112\n",
       "-0.001    0.280\n",
       " 0.009    1.164\n",
       " 0.019    1.776\n",
       " 0.029    2.188\n",
       " 0.039    1.044\n",
       " 0.049    1.516\n",
       "...\n",
       "0.759   -0.108\n",
       "0.769   -0.112\n",
       "0.779   -0.120\n",
       "0.789   -0.112\n",
       "0.799   -0.116\n",
       "0.809   -0.108\n",
       "0.819   -0.112\n",
       "0.829   -0.112\n",
       "0.839   -0.116\n",
       "0.849   -0.116\n",
       "0.859   -0.120\n",
       "0.869   -0.120\n",
       "0.879   -0.112\n",
       "0.889   -0.112\n",
       "0.899   -0.116\n",
       "Length: 100, dtype: float64"
      ]
     },
     "execution_count": 320,
     "metadata": {},
     "output_type": "execute_result"
    }
   ],
   "source": [
    "pd.rolling_mean(s, 10).iloc[9::10]"
   ]
  },
  {
   "cell_type": "code",
   "execution_count": 477,
   "metadata": {
    "collapsed": false
   },
   "outputs": [],
   "source": [
    "bad_chain = NormalChain(99, priors=(0, 0.01), data_sigma = 0.01)\n",
    "for i in range(10, 18):\n",
    "    bad_chain.update(transform(bad_series[tek_name(i)]))"
   ]
  },
  {
   "cell_type": "code",
   "execution_count": 478,
   "metadata": {
    "collapsed": false
   },
   "outputs": [
    {
     "name": "stdout",
     "output_type": "stream",
     "text": [
      "0 24.5485481806\n",
      "1 38.7327928643\n",
      "2 26.2944152933\n",
      "3 25.077319443\n"
     ]
    }
   ],
   "source": [
    "for i in range(4):\n",
    "    print(i, bad_chain.log_likelihood(transform(good_series[tek_name(i)])))"
   ]
  },
  {
   "cell_type": "code",
   "execution_count": 479,
   "metadata": {
    "collapsed": false
   },
   "outputs": [
    {
     "name": "stdout",
     "output_type": "stream",
     "text": [
      "10 26.0649737639\n",
      "11 32.0516875834\n",
      "12 17.077319443\n",
      "13 19.906572872\n",
      "14 20.8304058627\n",
      "15 33.6638451621\n",
      "16 14.8087479414\n",
      "17 31.5259497578\n"
     ]
    }
   ],
   "source": [
    "for i in range(10, 18):\n",
    "    print(i, bad_chain.log_likelihood(transform(bad_series[tek_name(i)])))"
   ]
  },
  {
   "cell_type": "code",
   "execution_count": 480,
   "metadata": {
    "collapsed": false
   },
   "outputs": [
    {
     "data": {
      "text/plain": [
       "25.077319442951868"
      ]
     },
     "execution_count": 480,
     "metadata": {},
     "output_type": "execute_result"
    }
   ],
   "source": [
    "s = transform(good_series[tek_name(3)])\n",
    "\n",
    "bad_chain.log_likelihood(s)"
   ]
  },
  {
   "cell_type": "code",
   "execution_count": 481,
   "metadata": {
    "collapsed": false
   },
   "outputs": [
    {
     "data": {
      "text/plain": [
       "31.43477983339972"
      ]
     },
     "execution_count": 481,
     "metadata": {},
     "output_type": "execute_result"
    }
   ],
   "source": [
    "chain.log_likelihood(s)"
   ]
  },
  {
   "cell_type": "code",
   "execution_count": 482,
   "metadata": {
    "collapsed": false
   },
   "outputs": [],
   "source": [
    "p = Predictor(good=chain, bad=bad_chain)"
   ]
  },
  {
   "cell_type": "code",
   "execution_count": 483,
   "metadata": {
    "collapsed": false
   },
   "outputs": [
    {
     "data": {
      "text/plain": [
       "'good'"
      ]
     },
     "execution_count": 483,
     "metadata": {},
     "output_type": "execute_result"
    }
   ],
   "source": [
    "p.predict(s)"
   ]
  },
  {
   "cell_type": "code",
   "execution_count": 429,
   "metadata": {
    "collapsed": false
   },
   "outputs": [],
   "source": [
    "v = {'a': 1, 'b': 2, 'c': -2, 'd': 10}"
   ]
  },
  {
   "cell_type": "code",
   "execution_count": 401,
   "metadata": {
    "collapsed": false
   },
   "outputs": [
    {
     "data": {
      "text/plain": [
       "'d'"
      ]
     },
     "execution_count": 401,
     "metadata": {},
     "output_type": "execute_result"
    }
   ],
   "source": [
    "reduce(lambda x, y: x if v[x] > v[y] else y, v.keys())"
   ]
  },
  {
   "cell_type": "code",
   "execution_count": 484,
   "metadata": {
    "collapsed": true
   },
   "outputs": [],
   "source": [
    "import valve"
   ]
  },
  {
   "cell_type": "code",
   "execution_count": 486,
   "metadata": {
    "collapsed": true
   },
   "outputs": [],
   "source": [
    "gs = valve.good_series\n",
    "bs = valve.bad_series"
   ]
  },
  {
   "cell_type": "code",
   "execution_count": 506,
   "metadata": {
    "collapsed": false
   },
   "outputs": [],
   "source": [
    "good = valve.train_chain(good_series, valve.non_overlap_mean, 99)\n",
    "bad = valve.train_chain(bad_series, valve.non_overlap_mean, 99)"
   ]
  },
  {
   "cell_type": "code",
   "execution_count": 507,
   "metadata": {
    "collapsed": false
   },
   "outputs": [],
   "source": [
    "p = Predictor(good=good, bad=bad)"
   ]
  },
  {
   "cell_type": "code",
   "execution_count": 508,
   "metadata": {
    "collapsed": false
   },
   "outputs": [
    {
     "data": {
      "text/plain": [
       "['good', 'bad', 'good', 'bad']"
      ]
     },
     "execution_count": 508,
     "metadata": {},
     "output_type": "execute_result"
    }
   ],
   "source": [
    "s1 = gs[tek_name(1)]\n",
    "s2 = bs[tek_name(11)]\n",
    "\n",
    "[p.predict(s)for s in good_series.values()]"
   ]
  },
  {
   "cell_type": "code",
   "execution_count": 505,
   "metadata": {
    "collapsed": false
   },
   "outputs": [
    {
     "data": {
      "text/plain": [
       "{'data_sigma': 0.01,\n",
       " 'mean': 3.8959999999999981,\n",
       " 'sigma': 0.0044721359549995798}"
      ]
     },
     "execution_count": 505,
     "metadata": {},
     "output_type": "execute_result"
    }
   ],
   "source": [
    "chain.nodes[11].__dict__"
   ]
  },
  {
   "cell_type": "code",
   "execution_count": 504,
   "metadata": {
    "collapsed": false
   },
   "outputs": [
    {
     "data": {
      "text/plain": [
       "{'data_sigma': 0.01,\n",
       " 'mean': 3.8959999999999981,\n",
       " 'sigma': 0.0044721359549995798}"
      ]
     },
     "execution_count": 504,
     "metadata": {},
     "output_type": "execute_result"
    }
   ],
   "source": [
    "good.nodes[11].__dict__"
   ]
  },
  {
   "cell_type": "code",
   "execution_count": null,
   "metadata": {
    "collapsed": true
   },
   "outputs": [],
   "source": []
  }
 ],
 "metadata": {
  "kernelspec": {
   "display_name": "Python 3",
   "language": "python",
   "name": "python3"
  },
  "language_info": {
   "codemirror_mode": {
    "name": "ipython",
    "version": 3
   },
   "file_extension": ".py",
   "mimetype": "text/x-python",
   "name": "python",
   "nbconvert_exporter": "python",
   "pygments_lexer": "ipython3",
   "version": "3.4.3"
  }
 },
 "nbformat": 4,
 "nbformat_minor": 0
}
